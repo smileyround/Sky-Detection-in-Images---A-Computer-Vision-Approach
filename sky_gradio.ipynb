{
 "cells": [
  {
   "cell_type": "code",
   "execution_count": 1,
   "metadata": {},
   "outputs": [
    {
     "name": "stdout",
     "output_type": "stream",
     "text": [
      "Running on local URL:  http://127.0.0.1:7860\n",
      "Running on public URL: https://c8879f533216340efa.gradio.live\n",
      "\n",
      "This share link expires in 72 hours. For free permanent hosting and GPU upgrades, run `gradio deploy` from Terminal to deploy to Spaces (https://huggingface.co/spaces)\n"
     ]
    },
    {
     "data": {
      "text/html": [
       "<div><iframe src=\"https://c8879f533216340efa.gradio.live\" width=\"100%\" height=\"500\" allow=\"autoplay; camera; microphone; clipboard-read; clipboard-write;\" frameborder=\"0\" allowfullscreen></iframe></div>"
      ],
      "text/plain": [
       "<IPython.core.display.HTML object>"
      ]
     },
     "metadata": {},
     "output_type": "display_data"
    },
    {
     "data": {
      "text/plain": []
     },
     "execution_count": 1,
     "metadata": {},
     "output_type": "execute_result"
    }
   ],
   "source": [
    "import cv2\n",
    "import numpy as np\n",
    "import gradio as gr\n",
    "\n",
    "def sky_detection(image_path):\n",
    "    # Load the image\n",
    "    image = cv2.imread(image_path)\n",
    "\n",
    "    # Convert to RGB\n",
    "    image_rgb = cv2.cvtColor(image, cv2.COLOR_BGR2RGB)\n",
    "\n",
    "    # Define the blue color range in RGB\n",
    "    lower_blue = np.array([0, 80, 120]) \n",
    "    upper_blue = np.array([255, 255, 255]) \n",
    "\n",
    "    # Create a mask for the aky color range in the RGB image\n",
    "    sky_mask = cv2.inRange(image_rgb, lower_blue, upper_blue)\n",
    "\n",
    "    # Find the edge and remove the edge from the sky\n",
    "    edges = cv2.Canny(image_rgb,100,100)\n",
    "    inverted_edges = cv2.bitwise_not(edges)\n",
    "    combined_mask = cv2.bitwise_and(sky_mask, inverted_edges)\n",
    "\n",
    "    # Define a kernel size\n",
    "    kernel_size = 20 \n",
    "    kernel = cv2.getStructuringElement(cv2.MORPH_ELLIPSE, (kernel_size, kernel_size))\n",
    "    combined_mask_morpho = cv2.morphologyEx(combined_mask, cv2.MORPH_OPEN, kernel)\n",
    "\n",
    "    # Create an image to apply the mask to\n",
    "    colored_sky = np.zeros_like(image_rgb)\n",
    "    colored_sky[np.where(combined_mask_morpho == 255)] = [255, 255, 0]  # Color the sky yellow in RGB format\n",
    "\n",
    "    # Merge the original RGB image with the colored sky\n",
    "    result_rgb = cv2.addWeighted(image_rgb, 0.8, colored_sky, 1, 0)\n",
    "\n",
    "    return result_rgb\n",
    "\n",
    "iface = gr.Interface(fn=sky_detection, inputs=\"file\", outputs=\"image\")\n",
    "iface.launch(share=True)\n"
   ]
  }
 ],
 "metadata": {
  "kernelspec": {
   "display_name": "base",
   "language": "python",
   "name": "python3"
  },
  "language_info": {
   "codemirror_mode": {
    "name": "ipython",
    "version": 3
   },
   "file_extension": ".py",
   "mimetype": "text/x-python",
   "name": "python",
   "nbconvert_exporter": "python",
   "pygments_lexer": "ipython3",
   "version": "3.11.7"
  }
 },
 "nbformat": 4,
 "nbformat_minor": 2
}
