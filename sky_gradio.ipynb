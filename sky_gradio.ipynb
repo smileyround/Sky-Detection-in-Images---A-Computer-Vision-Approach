{
 "cells": [
  {
   "cell_type": "code",
   "execution_count": 2,
   "metadata": {},
   "outputs": [
    {
     "name": "stdout",
     "output_type": "stream",
     "text": [
      "Running on local URL:  http://127.0.0.1:7861\n",
      "\n",
      "To create a public link, set `share=True` in `launch()`.\n"
     ]
    },
    {
     "data": {
      "text/html": [
       "<div><iframe src=\"http://127.0.0.1:7861/\" width=\"100%\" height=\"500\" allow=\"autoplay; camera; microphone; clipboard-read; clipboard-write;\" frameborder=\"0\" allowfullscreen></iframe></div>"
      ],
      "text/plain": [
       "<IPython.core.display.HTML object>"
      ]
     },
     "metadata": {},
     "output_type": "display_data"
    },
    {
     "data": {
      "text/plain": []
     },
     "execution_count": 2,
     "metadata": {},
     "output_type": "execute_result"
    }
   ],
   "source": [
    "import cv2\n",
    "import numpy as np\n",
    "import gradio as gr\n",
    "\n",
    "def sky_detection(image_path):\n",
    "    # Load the image\n",
    "    image = cv2.imread('sky/12.jpeg') \n",
    "\n",
    "    # Convert to RGB\n",
    "    image_rgb = cv2.cvtColor(image, cv2.COLOR_BGR2RGB)\n",
    "\n",
    "    # Define the blue color range in RGB\n",
    "    lower_blue = np.array([80, 80, 120]) \n",
    "    upper_blue = np.array([255, 255, 255]) \n",
    "\n",
    "    # Create a mask for the aky color range in the RGB image\n",
    "    sky_mask = cv2.inRange(image_rgb, lower_blue, upper_blue)\n",
    "\n",
    "    # Find the edge and remove the edge from the sky\n",
    "    edges = cv2.Canny(image_rgb,40,50)\n",
    "    inverted_edges = cv2.bitwise_not(edges)\n",
    "    combined_mask = cv2.bitwise_and(sky_mask, inverted_edges)\n",
    "\n",
    "    # Create an image to apply the mask to\n",
    "    colored_sky = np.zeros_like(image_rgb)\n",
    "    colored_sky[np.where(combined_mask == 255)] = [255, 255, 0]  # Color the sky yellow in RGB format\n",
    "\n",
    "    # Merge the original RGB image with the colored sky\n",
    "    result_rgb = cv2.addWeighted(image_rgb, 1, colored_sky, 1, 0)\n",
    "\n",
    "\n",
    "    return result_rgb\n",
    "\n",
    "iface = gr.Interface(fn=sky_detection, inputs=\"file\", outputs=\"image\")\n",
    "iface.launch()\n"
   ]
  }
 ],
 "metadata": {
  "kernelspec": {
   "display_name": "base",
   "language": "python",
   "name": "python3"
  },
  "language_info": {
   "codemirror_mode": {
    "name": "ipython",
    "version": 3
   },
   "file_extension": ".py",
   "mimetype": "text/x-python",
   "name": "python",
   "nbconvert_exporter": "python",
   "pygments_lexer": "ipython3",
   "version": "3.11.7"
  }
 },
 "nbformat": 4,
 "nbformat_minor": 2
}
